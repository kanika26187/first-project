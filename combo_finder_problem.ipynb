{
  "nbformat": 4,
  "nbformat_minor": 0,
  "metadata": {
    "colab": {
      "provenance": [],
      "authorship_tag": "ABX9TyPyugUZzDi9mlhFha2HI/mD",
      "include_colab_link": true
    },
    "kernelspec": {
      "name": "python3",
      "display_name": "Python 3"
    },
    "language_info": {
      "name": "python"
    }
  },
  "cells": [
    {
      "cell_type": "markdown",
      "metadata": {
        "id": "view-in-github",
        "colab_type": "text"
      },
      "source": [
        "<a href=\"https://colab.research.google.com/github/kanika26187/first-project/blob/main/combo_finder_problem.ipynb\" target=\"_parent\"><img src=\"https://colab.research.google.com/assets/colab-badge.svg\" alt=\"Open In Colab\"/></a>"
      ]
    },
    {
      "cell_type": "code",
      "source": [
        "#Problem Statement:\n",
        "#find all the list of products whose sum-of-price is between 290 and 310.\n",
        "\n",
        "#ProductList = {p1:10, p2:15, p3:20, p4:25, p5:30, p6:\n",
        "\n",
        "\n",
        "import random as r\n",
        "\n",
        "#-------------------------------------------------------------\n",
        "# Step 1: Product List and Parameters\n",
        "#-------------------------------------------------------------\n",
        "ProductList = {\n",
        "    'p1':10, 'p2':15, 'p3':20, 'p4':25, 'p5':30, 'p6':35, 'p7':50,\n",
        "    'p8':40, 'p9':55, 'p10':60, 'p11':65, 'p12':75, 'p13':70, 'p14':45\n",
        "}\n",
        "LB = 290         # Lower Bound of sum\n",
        "UB = 310         # Upper Bound of sum\n",
        "Iterations = 1000\n",
        "ResultList = set()\n",
        "\n",
        "#-------------------------------------------------------------\n",
        "# Step 2: Generate Random Combos and Check Sum\n",
        "#-------------------------------------------------------------\n",
        "for _ in range(Iterations):\n",
        "    # Random size for combo (between 2 and total-1)\n",
        "    SetSize = r.randint(2, len(ProductList) - 1)\n",
        "\n",
        "    # Random sample of product keys\n",
        "    ComboList = r.sample(list(ProductList.keys()), SetSize)\n",
        "    ComboList.sort()\n",
        "\n",
        "    # Calculate sum\n",
        "    ComboSum = sum(ProductList[p] for p in ComboList)\n",
        "\n",
        "    # Check if sum is within bounds\n",
        "    if LB <= ComboSum <= UB:\n",
        "        ResultList.add(tuple(ComboList))  # convert to tuple so it can go into set\n",
        "\n",
        "#-------------------------------------------------------------\n",
        "# Step 3: Print Results\n",
        "#-------------------------------------------------------------\n",
        "for r in ResultList:\n",
        "\tprint (r)\n",
        "\n",
        "# Print total sets\n",
        "print (\"\\nTotal Sets: \", len(ResultList), \"\\n\")\n"
      ],
      "metadata": {
        "colab": {
          "base_uri": "https://localhost:8080/"
        },
        "id": "gVRMG932eIZM",
        "outputId": "7bf7e310-1803-44a9-fd0c-a3a7e2c557c4"
      },
      "execution_count": 5,
      "outputs": [
        {
          "output_type": "stream",
          "name": "stdout",
          "text": [
            "('p10', 'p12', 'p13', 'p4', 'p5', 'p6')\n",
            "('p12', 'p13', 'p2', 'p3', 'p6', 'p8', 'p9')\n",
            "('p1', 'p11', 'p12', 'p13', 'p5', 'p7')\n",
            "('p1', 'p11', 'p14', 'p3', 'p4', 'p6', 'p7', 'p9')\n",
            "('p10', 'p11', 'p12', 'p14', 'p7')\n",
            "('p1', 'p10', 'p11', 'p13', 'p14', 'p8')\n",
            "('p10', 'p13', 'p14', 'p5', 'p7', 'p8')\n",
            "('p11', 'p14', 'p2', 'p3', 'p4', 'p5', 'p7', 'p9')\n",
            "('p10', 'p13', 'p2', 'p3', 'p6', 'p7', 'p9')\n",
            "('p1', 'p12', 'p14', 'p4', 'p5', 'p6', 'p7', 'p8')\n",
            "('p11', 'p12', 'p13', 'p2', 'p4', 'p7')\n",
            "('p12', 'p14', 'p2', 'p3', 'p7', 'p8', 'p9')\n",
            "('p1', 'p10', 'p12', 'p5', 'p6', 'p8', 'p9')\n",
            "('p1', 'p11', 'p13', 'p2', 'p4', 'p7', 'p9')\n",
            "('p13', 'p2', 'p4', 'p6', 'p7', 'p8', 'p9')\n",
            "('p1', 'p12', 'p13', 'p4', 'p5', 'p8', 'p9')\n",
            "('p10', 'p11', 'p3', 'p7', 'p8', 'p9')\n",
            "('p1', 'p10', 'p4', 'p5', 'p6', 'p7', 'p8', 'p9')\n",
            "('p14', 'p3', 'p4', 'p5', 'p6', 'p7', 'p8', 'p9')\n",
            "('p10', 'p12', 'p3', 'p7', 'p8', 'p9')\n",
            "('p1', 'p13', 'p2', 'p3', 'p6', 'p7', 'p8', 'p9')\n",
            "('p10', 'p13', 'p14', 'p2', 'p4', 'p8', 'p9')\n",
            "('p1', 'p11', 'p12', 'p13', 'p7', 'p8')\n",
            "('p1', 'p11', 'p14', 'p4', 'p7', 'p8', 'p9')\n",
            "('p1', 'p10', 'p13', 'p14', 'p2', 'p3', 'p6', 'p7')\n",
            "('p1', 'p11', 'p13', 'p2', 'p3', 'p6', 'p8', 'p9')\n",
            "('p12', 'p13', 'p3', 'p6', 'p7', 'p8')\n",
            "('p10', 'p11', 'p12', 'p2', 'p3', 'p9')\n",
            "('p1', 'p10', 'p12', 'p13', 'p14', 'p5')\n",
            "('p11', 'p12', 'p14', 'p2', 'p8', 'p9')\n",
            "('p1', 'p11', 'p12', 'p5', 'p6', 'p8', 'p9')\n",
            "('p10', 'p11', 'p5', 'p6', 'p7', 'p9')\n",
            "('p10', 'p12', 'p13', 'p8', 'p9')\n",
            "('p10', 'p11', 'p14', 'p2', 'p3', 'p4', 'p5', 'p8')\n",
            "('p11', 'p12', 'p13', 'p14', 'p2', 'p4')\n",
            "('p10', 'p11', 'p12', 'p8', 'p9')\n",
            "('p1', 'p10', 'p11', 'p13', 'p4', 'p5', 'p8')\n",
            "('p10', 'p14', 'p2', 'p3', 'p4', 'p6', 'p8', 'p9')\n",
            "('p1', 'p11', 'p12', 'p2', 'p3', 'p4', 'p6', 'p7')\n",
            "('p11', 'p12', 'p3', 'p4', 'p6', 'p7', 'p8')\n",
            "('p1', 'p11', 'p14', 'p3', 'p4', 'p7', 'p8', 'p9')\n",
            "('p10', 'p14', 'p3', 'p4', 'p5', 'p6', 'p7', 'p8')\n",
            "('p10', 'p2', 'p3', 'p4', 'p6', 'p7', 'p8', 'p9')\n",
            "\n",
            "Total Sets:  43 \n",
            "\n"
          ]
        }
      ]
    }
  ]
}
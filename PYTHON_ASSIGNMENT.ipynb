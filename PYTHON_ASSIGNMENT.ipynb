{
  "nbformat": 4,
  "nbformat_minor": 0,
  "metadata": {
    "colab": {
      "provenance": [],
      "authorship_tag": "ABX9TyPHM/0Li/KG7M58VemBxkdu",
      "include_colab_link": true
    },
    "kernelspec": {
      "name": "python3",
      "display_name": "Python 3"
    },
    "language_info": {
      "name": "python"
    }
  },
  "cells": [
    {
      "cell_type": "markdown",
      "metadata": {
        "id": "view-in-github",
        "colab_type": "text"
      },
      "source": [
        "<a href=\"https://colab.research.google.com/github/kanika26187/first-project/blob/main/PYTHON_ASSIGNMENT.ipynb\" target=\"_parent\"><img src=\"https://colab.research.google.com/assets/colab-badge.svg\" alt=\"Open In Colab\"/></a>"
      ]
    },
    {
      "cell_type": "code",
      "execution_count": 1,
      "metadata": {
        "colab": {
          "base_uri": "https://localhost:8080/"
        },
        "id": "zw6rFOXHSRHi",
        "outputId": "97bb0b63-bea5-4686-f18a-ec82ef9df832"
      },
      "outputs": [
        {
          "output_type": "stream",
          "name": "stdout",
          "text": [
            "After adding 50 and 60: [11, 12, 13, 14, 50, 60]\n",
            "After removing 11 and 13: [12, 14, 50, 60]\n",
            "Sorted (Ascending): [12, 14, 50, 60]\n",
            "Sorted (Descending): [60, 50, 14, 12]\n",
            "Is 13 in L?: False\n",
            "Number of elements: 4\n",
            "Sum of elements: 136\n",
            "Sum of ODD numbers: 0\n",
            "Sum of EVEN numbers: 136\n",
            "Sum of PRIME numbers: 0\n",
            "Cleared L: []\n"
          ]
        }
      ],
      "source": [
        "L = [11, 12, 13, 14]\n",
        "\n",
        "# (i)\n",
        "L.extend([50, 60])\n",
        "print(\"After adding 50 and 60:\", L)\n",
        "\n",
        "# (ii)\n",
        "L = [x for x in L if x not in [11, 13]]\n",
        "print(\"After removing 11 and 13:\", L)\n",
        "\n",
        "# (iii)\n",
        "print(\"Sorted (Ascending):\", sorted(L))\n",
        "\n",
        "# (iv)\n",
        "print(\"Sorted (Descending):\", sorted(L, reverse=True))\n",
        "\n",
        "# (v)\n",
        "print(\"Is 13 in L?:\", 13 in L)\n",
        "\n",
        "# (vi)\n",
        "print(\"Number of elements:\", len(L))\n",
        "\n",
        "# (vii)\n",
        "print(\"Sum of elements:\", sum(L))\n",
        "\n",
        "# (viii)\n",
        "print(\"Sum of ODD numbers:\", sum(x for x in L if x % 2 != 0))\n",
        "\n",
        "# (ix)\n",
        "print(\"Sum of EVEN numbers:\", sum(x for x in L if x % 2 == 0))\n",
        "\n",
        "# (x)\n",
        "def is_prime(n):\n",
        "    if n < 2: return False\n",
        "    for i in range(2, int(n**0.5)+1):\n",
        "        if n % i == 0: return False\n",
        "    return True\n",
        "print(\"Sum of PRIME numbers:\", sum(x for x in L if is_prime(x)))\n",
        "\n",
        "# (xi)\n",
        "L.clear()\n",
        "print(\"Cleared L:\", L)\n",
        "\n",
        "# (xii)\n",
        "del L\n",
        "# print(L)  # Will give error as L is deleted\n"
      ]
    },
    {
      "cell_type": "code",
      "source": [
        "D = {1: 5.6, 2: 7.8, 3: 6.6, 4: 8.7, 5: 7.7}\n",
        "\n",
        "# (i)\n",
        "D[8] = 8.8\n",
        "print(\"After adding key=8:\", D)\n",
        "\n",
        "# (ii)\n",
        "D.pop(2, None)\n",
        "print(\"After removing key=2:\", D)\n",
        "\n",
        "# (iii)\n",
        "print(\"Is key 6 in D?:\", 6 in D)\n",
        "\n",
        "# (iv)\n",
        "print(\"Number of elements:\", len(D))\n",
        "\n",
        "# (v)\n",
        "print(\"Sum of all values:\", sum(D.values()))\n",
        "\n",
        "# (vi)\n",
        "D[3] = 7.1\n",
        "print(\"Updated value of key 3:\", D)\n",
        "\n",
        "# (vii)\n",
        "D.clear()\n",
        "print(\"Cleared dictionary:\", D)\n"
      ],
      "metadata": {
        "colab": {
          "base_uri": "https://localhost:8080/"
        },
        "id": "dzludKe7TE0I",
        "outputId": "cff77395-eee7-4ec5-ca70-4315f21fb8ff"
      },
      "execution_count": 2,
      "outputs": [
        {
          "output_type": "stream",
          "name": "stdout",
          "text": [
            "After adding key=8: {1: 5.6, 2: 7.8, 3: 6.6, 4: 8.7, 5: 7.7, 8: 8.8}\n",
            "After removing key=2: {1: 5.6, 3: 6.6, 4: 8.7, 5: 7.7, 8: 8.8}\n",
            "Is key 6 in D?: False\n",
            "Number of elements: 5\n",
            "Sum of all values: 37.4\n",
            "Updated value of key 3: {1: 5.6, 3: 7.1, 4: 8.7, 5: 7.7, 8: 8.8}\n",
            "Cleared dictionary: {}\n"
          ]
        }
      ]
    },
    {
      "cell_type": "code",
      "source": [
        "S1 = {10, 20, 30, 40, 50, 60}\n",
        "S2 = {40, 50, 60, 70, 80, 90}\n",
        "\n",
        "# (i)\n",
        "S1.update([55, 66])\n",
        "print(\"After adding 55, 66:\", S1)\n",
        "\n",
        "# (ii)\n",
        "S1.discard(10)\n",
        "S1.discard(30)\n",
        "print(\"After removing 10, 30:\", S1)\n",
        "\n",
        "# (iii)\n",
        "print(\"Is 40 in S1?:\", 40 in S1)\n",
        "\n",
        "# (iv)\n",
        "print(\"Union:\", S1.union(S2))\n",
        "\n",
        "# (v)\n",
        "print(\"Intersection:\", S1.intersection(S2))\n",
        "\n",
        "# (vi)\n",
        "print(\"S1 - S2:\", S1.difference(S2))\n"
      ],
      "metadata": {
        "colab": {
          "base_uri": "https://localhost:8080/"
        },
        "id": "qZ-8GEQaTSlh",
        "outputId": "9dbe688e-a831-4359-96f4-9adc2e50edc4"
      },
      "execution_count": 3,
      "outputs": [
        {
          "output_type": "stream",
          "name": "stdout",
          "text": [
            "After adding 55, 66: {50, 66, 20, 55, 40, 10, 60, 30}\n",
            "After removing 10, 30: {50, 66, 20, 55, 40, 60}\n",
            "Is 40 in S1?: True\n",
            "Union: {66, 70, 40, 80, 50, 20, 55, 90, 60}\n",
            "Intersection: {40, 50, 60}\n",
            "S1 - S2: {66, 20, 55}\n"
          ]
        }
      ]
    },
    {
      "cell_type": "code",
      "source": [
        "import random\n",
        "import string\n",
        "\n",
        "# (i)\n",
        "for _ in range(100):\n",
        "    length = random.randint(6, 8)\n",
        "    print(''.join(random.choices(string.ascii_lowercase, k=length)))\n",
        "\n",
        "# (ii)\n",
        "def is_prime(n):\n",
        "    if n < 2: return False\n",
        "    for i in range(2, int(n**0.5)+1):\n",
        "        if n % i == 0: return False\n",
        "    return True\n",
        "\n",
        "for i in range(600, 801):\n",
        "    if is_prime(i):\n",
        "        print(i)\n",
        "\n",
        "# (iii)\n",
        "for i in range(100, 1001):\n",
        "    if i % 7 == 0 and i % 9 == 0:\n",
        "        print(i)\n"
      ],
      "metadata": {
        "colab": {
          "base_uri": "https://localhost:8080/"
        },
        "id": "zUUxxu1ZTUgk",
        "outputId": "d4efd5ab-08c6-4a72-8120-fc56ce1ff2f4"
      },
      "execution_count": 4,
      "outputs": [
        {
          "output_type": "stream",
          "name": "stdout",
          "text": [
            "twhjqkq\n",
            "kghudnr\n",
            "hilqbtmk\n",
            "cmjkguf\n",
            "qnkrlf\n",
            "yvkkjefr\n",
            "wpkqjh\n",
            "ljsrvdk\n",
            "mkhsxv\n",
            "pacypqem\n",
            "pfitqys\n",
            "atlwmoq\n",
            "poqtabpc\n",
            "exkmbkf\n",
            "auyfko\n",
            "vjwlakf\n",
            "utbaegf\n",
            "bbohya\n",
            "admxnhe\n",
            "hlvjugq\n",
            "ackjjzsg\n",
            "itokubik\n",
            "gcggdcmr\n",
            "yoyricks\n",
            "mwcrybcp\n",
            "zccogivb\n",
            "sgpovf\n",
            "doenwt\n",
            "agyjcc\n",
            "xhdzecyu\n",
            "vvzuoy\n",
            "kgerdk\n",
            "ffmvdrn\n",
            "emefcvto\n",
            "pqcbpdx\n",
            "jkxqgpx\n",
            "pyivlq\n",
            "lmhvpag\n",
            "jkhkmdq\n",
            "asiwsei\n",
            "beondkf\n",
            "chwrjwah\n",
            "wbslcfb\n",
            "zszeiiy\n",
            "rluvnexo\n",
            "lafhxejy\n",
            "fryycxrf\n",
            "zbdifvg\n",
            "ecgzrtmh\n",
            "wlqdwu\n",
            "ppecaxg\n",
            "qhwgdaoq\n",
            "exvmkbr\n",
            "vglimwrw\n",
            "qasmdmci\n",
            "tgcost\n",
            "lovuoma\n",
            "qirlygm\n",
            "owveshbq\n",
            "ejopjy\n",
            "xxdgur\n",
            "zvybofn\n",
            "wbssrgh\n",
            "ydhyvdjp\n",
            "banjlot\n",
            "kbwgjeo\n",
            "oogtexbf\n",
            "zrlsxle\n",
            "ytluem\n",
            "ncsicvvn\n",
            "phnhyht\n",
            "uyoqoma\n",
            "dlrfiyyk\n",
            "xdmsfb\n",
            "gnzbxn\n",
            "nlsxobj\n",
            "mdsvnjro\n",
            "lhdwcf\n",
            "udecdso\n",
            "ftacoqo\n",
            "roepaebs\n",
            "ktogycy\n",
            "vfkkxrn\n",
            "dvkoqwg\n",
            "rmtrcy\n",
            "gywufzz\n",
            "pynttl\n",
            "gpobvun\n",
            "higvzwtc\n",
            "leuncs\n",
            "rwgbtgi\n",
            "xfsxstf\n",
            "kvsolwyg\n",
            "xlyhfc\n",
            "gfclvc\n",
            "obdglg\n",
            "vpfncs\n",
            "ndjnbso\n",
            "bqselb\n",
            "cslwzn\n",
            "601\n",
            "607\n",
            "613\n",
            "617\n",
            "619\n",
            "631\n",
            "641\n",
            "643\n",
            "647\n",
            "653\n",
            "659\n",
            "661\n",
            "673\n",
            "677\n",
            "683\n",
            "691\n",
            "701\n",
            "709\n",
            "719\n",
            "727\n",
            "733\n",
            "739\n",
            "743\n",
            "751\n",
            "757\n",
            "761\n",
            "769\n",
            "773\n",
            "787\n",
            "797\n",
            "126\n",
            "189\n",
            "252\n",
            "315\n",
            "378\n",
            "441\n",
            "504\n",
            "567\n",
            "630\n",
            "693\n",
            "756\n",
            "819\n",
            "882\n",
            "945\n"
          ]
        }
      ]
    },
    {
      "cell_type": "code",
      "source": [
        "list1 = random.sample(range(10, 31), 10)\n",
        "list2 = random.sample(range(10, 31), 10)\n",
        "\n",
        "print(\"List1:\", list1)\n",
        "print(\"List2:\", list2)\n",
        "\n",
        "# (i)\n",
        "print(\"Common:\", list(set(list1) & set(list2)))\n",
        "\n",
        "# (ii)\n",
        "unique1 = set(list1) - set(list2)\n",
        "unique2 = set(list2) - set(list1)\n",
        "print(\"Unique in both:\", list(unique1 | unique2))\n",
        "\n",
        "# (iii)\n",
        "print(\"Minimum in both:\", min(list1), min(list2))\n",
        "\n",
        "# (iv)\n",
        "print(\"Maximum in both:\", max(list1), max(list2))\n",
        "\n",
        "# (v)\n",
        "print(\"Sum of list1:\", sum(list1))\n",
        "print(\"Sum of list2:\", sum(list2))\n"
      ],
      "metadata": {
        "colab": {
          "base_uri": "https://localhost:8080/"
        },
        "id": "J6h98yPBTlNb",
        "outputId": "55dbaeb9-7d98-4c5e-c93b-13d83283911d"
      },
      "execution_count": 5,
      "outputs": [
        {
          "output_type": "stream",
          "name": "stdout",
          "text": [
            "List1: [14, 21, 23, 30, 13, 12, 28, 16, 29, 26]\n",
            "List2: [12, 20, 26, 10, 29, 15, 24, 16, 11, 19]\n",
            "Common: [16, 26, 12, 29]\n",
            "Unique in both: [10, 11, 13, 14, 15, 19, 20, 21, 23, 24, 28, 30]\n",
            "Minimum in both: 12 10\n",
            "Maximum in both: 30 29\n",
            "Sum of list1: 212\n",
            "Sum of list2: 182\n"
          ]
        }
      ]
    },
    {
      "cell_type": "code",
      "source": [
        "import random\n",
        "\n",
        "numbers = [random.randint(100, 900) for _ in range(100)]\n",
        "\n",
        "odds = [x for x in numbers if x % 2 != 0]\n",
        "evens = [x for x in numbers if x % 2 == 0]\n",
        "\n",
        "def is_prime(n):\n",
        "    if n < 2: return False\n",
        "    for i in range(2, int(n**0.5)+1):\n",
        "        if n % i == 0: return False\n",
        "    return True\n",
        "\n",
        "primes = [x for x in numbers if is_prime(x)]\n",
        "\n",
        "print(\"Odd numbers:\", odds)\n",
        "print(\"Even numbers:\", evens)\n",
        "print(\"Prime numbers:\", primes)\n"
      ],
      "metadata": {
        "colab": {
          "base_uri": "https://localhost:8080/"
        },
        "id": "i6w7Xq2MTs49",
        "outputId": "8cb4c7c1-0a3a-488e-f612-dca80189dbf4"
      },
      "execution_count": 6,
      "outputs": [
        {
          "output_type": "stream",
          "name": "stdout",
          "text": [
            "Odd numbers: [727, 881, 361, 671, 753, 477, 625, 639, 795, 399, 261, 499, 363, 225, 191, 313, 341, 871, 467, 657, 563, 803, 761, 737, 341, 191, 625, 221, 487, 411, 183, 501, 527, 493, 289, 141, 891, 421, 563, 431, 269, 319, 181, 679, 317, 499, 655, 663, 379, 655, 407, 311, 839, 591, 885, 543, 767]\n",
            "Even numbers: [556, 470, 268, 708, 724, 110, 632, 730, 584, 754, 544, 534, 854, 792, 522, 118, 118, 876, 418, 246, 424, 140, 850, 154, 768, 230, 654, 374, 102, 310, 626, 564, 278, 396, 882, 376, 456, 642, 800, 232, 544, 596, 472]\n",
            "Prime numbers: [727, 881, 499, 191, 313, 467, 563, 761, 191, 487, 421, 563, 431, 269, 181, 317, 499, 379, 311, 839]\n"
          ]
        }
      ]
    },
    {
      "cell_type": "code",
      "source": [
        "# Define the dictionary\n",
        "D = {1: \"One\", 2: \"Two\", 3: \"Three\", 4: \"Four\", 5: \"Five\"}\n",
        "\n",
        "# Open a file in write mode\n",
        "with open(\"dictionary_output.txt\", \"w\") as file:\n",
        "    for key, value in D.items():\n",
        "        file.write(f\"{key}, {value}\\n\")\n",
        "\n",
        "print(\"Dictionary has been written to 'dictionary_output.txt'\")\n"
      ],
      "metadata": {
        "colab": {
          "base_uri": "https://localhost:8080/"
        },
        "id": "4ybT3xl8UTod",
        "outputId": "51cc5573-8f1e-4a41-a667-3b7fce876302"
      },
      "execution_count": 9,
      "outputs": [
        {
          "output_type": "stream",
          "name": "stdout",
          "text": [
            "Dictionary has been written to 'dictionary_output.txt'\n"
          ]
        }
      ]
    },
    {
      "cell_type": "code",
      "source": [
        "# Define the list\n",
        "L = [\"One\", \"Two\", \"Three\", \"Four\", \"Five\"]\n",
        "\n",
        "# Open a file in write mode\n",
        "with open(\"length_of_words.txt\", \"w\") as file:\n",
        "    for word in L:\n",
        "        file.write(f\"{word}, {len(word)}\\n\")\n",
        "\n",
        "print(\"Lengths written to 'length_of_words.txt'\")\n"
      ],
      "metadata": {
        "colab": {
          "base_uri": "https://localhost:8080/"
        },
        "id": "QU7U0cNcUn0G",
        "outputId": "bc54d769-9c96-4022-a7c9-1d552b836614"
      },
      "execution_count": 11,
      "outputs": [
        {
          "output_type": "stream",
          "name": "stdout",
          "text": [
            "Lengths written to 'length_of_words.txt'\n"
          ]
        }
      ]
    },
    {
      "cell_type": "code",
      "source": [
        "import random\n",
        "import string\n",
        "\n",
        "with open(\"random_100_strings.txt\", \"w\") as file:\n",
        "    for _ in range(100):\n",
        "        length = random.randint(10, 15)\n",
        "        rand_str = ''.join(random.choices(string.ascii_letters, k=length))\n",
        "        file.write(rand_str + \"\\n\")\n",
        "\n",
        "print(\"100 random strings written to 'random_100_strings.txt'\")\n"
      ],
      "metadata": {
        "colab": {
          "base_uri": "https://localhost:8080/"
        },
        "id": "Z_fA7q33U5Sc",
        "outputId": "a7aee63c-f9de-4e1a-e423-da726ad7071d"
      },
      "execution_count": 13,
      "outputs": [
        {
          "output_type": "stream",
          "name": "stdout",
          "text": [
            "100 random strings written to 'random_100_strings.txt'\n"
          ]
        }
      ]
    },
    {
      "cell_type": "code",
      "source": [
        "def is_prime(n):\n",
        "    if n < 2:\n",
        "        return False\n",
        "    for i in range(2, int(n**0.5)+1):\n",
        "        if n % i == 0:\n",
        "            return False\n",
        "    return True\n",
        "\n",
        "with open(\"prime_600_to_800.txt\", \"w\") as file:\n",
        "    for num in range(600, 801):\n",
        "        if is_prime(num):\n",
        "            file.write(str(num) + \"\\n\")\n",
        "\n",
        "print(\"Prime numbers between 600 and 800 written to 'prime_600_to_800.txt'\")\n"
      ],
      "metadata": {
        "colab": {
          "base_uri": "https://localhost:8080/"
        },
        "id": "bzr3g15EVBhG",
        "outputId": "bbe4b416-7456-48a5-cbf4-a13423aac22d"
      },
      "execution_count": 14,
      "outputs": [
        {
          "output_type": "stream",
          "name": "stdout",
          "text": [
            "Prime numbers between 600 and 800 written to 'prime_600_to_800.txt'\n"
          ]
        }
      ]
    },
    {
      "cell_type": "code",
      "source": [
        "import time\n",
        "\n",
        "start = time.time()\n",
        "\n",
        "# Sample task: summing numbers\n",
        "total = sum(range(1, 1000000))\n",
        "\n",
        "end = time.time()\n",
        "print(\"Time taken:\", end - start, \"seconds\")\n"
      ],
      "metadata": {
        "colab": {
          "base_uri": "https://localhost:8080/"
        },
        "id": "BTMDc5eVVGWl",
        "outputId": "f4638392-2e98-4449-bc0e-acebbc9a69d0"
      },
      "execution_count": 15,
      "outputs": [
        {
          "output_type": "stream",
          "name": "stdout",
          "text": [
            "Time taken: 0.030643701553344727 seconds\n"
          ]
        }
      ]
    },
    {
      "cell_type": "code",
      "source": [
        "import time\n",
        "import random\n",
        "import matplotlib.pyplot as plt\n",
        "\n",
        "sizes = [5000, 10000, 15000, 20000, 25000]\n",
        "times = []\n",
        "\n",
        "for size in sizes:\n",
        "    lst = [random.randint(1, 100000) for _ in range(size)]\n",
        "    start = time.time()\n",
        "    lst.sort()\n",
        "    end = time.time()\n",
        "    times.append(end - start)\n",
        "    print(f\"{size} elements sorted in {end - start:.4f} seconds\")\n",
        "\n",
        "# Plot the data\n",
        "plt.plot(sizes, times, marker='o')\n",
        "plt.title(\"Sorting Time vs List Size\")\n",
        "plt.xlabel(\"Number of elements\")\n",
        "plt.ylabel(\"Time taken (seconds)\")\n",
        "plt.grid(True)\n",
        "plt.show()\n"
      ],
      "metadata": {
        "colab": {
          "base_uri": "https://localhost:8080/",
          "height": 559
        },
        "id": "vougxdYiVKyQ",
        "outputId": "a423717c-40f5-4f80-bdd8-9a4e9d332592"
      },
      "execution_count": 16,
      "outputs": [
        {
          "output_type": "stream",
          "name": "stdout",
          "text": [
            "5000 elements sorted in 0.0010 seconds\n",
            "10000 elements sorted in 0.0023 seconds\n",
            "15000 elements sorted in 0.0028 seconds\n",
            "20000 elements sorted in 0.0037 seconds\n",
            "25000 elements sorted in 0.0048 seconds\n"
          ]
        },
        {
          "output_type": "display_data",
          "data": {
            "text/plain": [
              "<Figure size 640x480 with 1 Axes>"
            ],
            "image/png": "[encoded data removed]"
          },
          "metadata": {}
        }
      ]
    },
    {
      "cell_type": "code",
      "source": [
        "students = {\n",
        "    \"Ankit\": [80, 90, 75, 85, 95],\n",
        "    \"Kanika\": [70, 60, 65, 72, 68],\n",
        "    \"Sonal\": [95, 93, 96, 91, 94],\n",
        "    \"Ravi\": [50, 55, 60, 58, 53],\n",
        "    \"Aman\": [88, 84, 86, 90, 89]\n",
        "}\n",
        "\n",
        "# Calculate average marks\n",
        "averages = {name: sum(marks)/len(marks) for name, marks in students.items()}\n",
        "\n",
        "# Find max and min\n",
        "max_student = max(averages, key=averages.get)\n",
        "min_student = min(averages, key=averages.get)\n",
        "\n",
        "print(f\"Student with maximum average: {max_student} -> {averages[max_student]:.2f}\")\n",
        "print(f\"Student with minimum average: {min_student} -> {averages[min_student]:.2f}\")\n"
      ],
      "metadata": {
        "colab": {
          "base_uri": "https://localhost:8080/"
        },
        "id": "7Na5urm-VUu3",
        "outputId": "38868b89-7c55-4c34-bba6-f33d9dc878bb"
      },
      "execution_count": 17,
      "outputs": [
        {
          "output_type": "stream",
          "name": "stdout",
          "text": [
            "Student with maximum average: Sonal -> 93.80\n",
            "Student with minimum average: Ravi -> 55.20\n"
          ]
        }
      ]
    }
  ]
}
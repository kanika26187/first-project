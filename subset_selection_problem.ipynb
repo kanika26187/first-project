{
  "nbformat": 4,
  "nbformat_minor": 0,
  "metadata": {
    "colab": {
      "provenance": [],
      "authorship_tag": "ABX9TyNPtoTfX0BbhDopwXZRsZ5O",
      "include_colab_link": true
    },
    "kernelspec": {
      "name": "python3",
      "display_name": "Python 3"
    },
    "language_info": {
      "name": "python"
    }
  },
  "cells": [
    {
      "cell_type": "markdown",
      "metadata": {
        "id": "view-in-github",
        "colab_type": "text"
      },
      "source": [
        "<a href=\"https://colab.research.google.com/github/kanika26187/first-project/blob/main/subset_selection_problem.ipynb\" target=\"_parent\"><img src=\"https://colab.research.google.com/assets/colab-badge.svg\" alt=\"Open In Colab\"/></a>"
      ]
    },
    {
      "cell_type": "code",
      "execution_count": 1,
      "metadata": {
        "colab": {
          "base_uri": "https://localhost:8080/"
        },
        "id": "W_zjzeIUZKOj",
        "outputId": "e46f6163-f87f-4d2f-ba57-7414e4c0d08b"
      },
      "outputs": [
        {
          "output_type": "stream",
          "name": "stdout",
          "text": [
            "Total subsets found: 120\n",
            "[-12, -3, 2, 6, 7]\n",
            "[-9, -3, 2, 3, 7]\n",
            "[-12, -6, 1, 6, 11]\n",
            "[-6, -5, 1, 3, 7]\n",
            "[-8, -4, -3, 6, 9]\n",
            "[-9, -7, -4, 9, 11]\n",
            "[-9, -2, 2, 3, 6]\n",
            "[-7, -6, -2, 6, 9]\n",
            "[-6, -4, 1, 3, 6]\n",
            "[-5, -3, -2, 3, 7]\n"
          ]
        }
      ],
      "source": [
        "1#. Problem Statement:\n",
        "#Find all the subsets from a set of numbers whose sum is zero.\n",
        "#Constraint: Subset size must be 5\n",
        "#Set={-12, -3, -6, 7, 2, -2, 6, 3, 9, -7, -5, -8, 1, 11, -9, -4}\n",
        "\n",
        "import random\n",
        "\n",
        "# Given set\n",
        "numbers = [-12, -3, -6, 7, 2, -2, 6, 3, 9, -7, -5, -8, 1, 11, -9, -4]\n",
        "\n",
        "# Store unique valid subsets\n",
        "valid_subsets = set()\n",
        "\n",
        "# Try random subsets multiple times\n",
        "attempts = 100000  # Increase for better chance of catching all unique results\n",
        "\n",
        "for _ in range(attempts):\n",
        "    subset = tuple(sorted(random.sample(numbers, 5)))  # sample 5 unique elements\n",
        "    if sum(subset) == 0:\n",
        "        valid_subsets.add(subset)  # use tuple to keep set unique\n",
        "\n",
        "# Convert to list of lists for final result\n",
        "result = [list(subset) for subset in valid_subsets]\n",
        "\n",
        "# Print the result\n",
        "print(f\"Total subsets found: {len(result)}\")\n",
        "for subset in result[:10]:  # show only first 10 for display\n",
        "    print(subset)\n"
      ]
    },
    {
      "cell_type": "code",
      "source": [
        "#2. Problem Statement:\n",
        "#find all the subsets from a set of numbers whose sum is zero.\n",
        "#Constraint: Subset size must be 3 to 6 only\n",
        "#Set={-12, -3, -6, 7, 2, -2, 6, 3, 9, -7, -5, -8, 1, 11, -9, -4}\n",
        "\n",
        "import random\n",
        "\n",
        "# Given set\n",
        "numbers = [-12, -3, -6, 7, 2, -2, 6, 3, 9, -7, -5, -8, 1, 11, -9, -4]\n",
        "\n",
        "# Store valid subsets as sorted tuples to avoid duplicates\n",
        "valid_subsets = set()\n",
        "\n",
        "# Attempt many random combinations\n",
        "attempts = 150000  # Increase for more accuracy\n",
        "for _ in range(attempts):\n",
        "    size = random.randint(3, 6)  # random subset size between 3 and 6\n",
        "    subset = tuple(sorted(random.sample(numbers, size)))\n",
        "    if sum(subset) == 0:\n",
        "        valid_subsets.add(subset)\n",
        "\n",
        "# Convert result to list of lists\n",
        "result = [list(subset) for subset in valid_subsets]\n",
        "\n",
        "# Print results\n",
        "print(f\"Total subsets found: {len(result)}\")\n",
        "for subset in result[:10]:  # show first 10\n",
        "    print(subset)\n",
        "\n"
      ],
      "metadata": {
        "colab": {
          "base_uri": "https://localhost:8080/"
        },
        "id": "GZd8PKTmZ0zG",
        "outputId": "cdd2b27d-e1ae-42a0-a1ed-d0f4df4b7e0a"
      },
      "execution_count": 2,
      "outputs": [
        {
          "output_type": "stream",
          "name": "stdout",
          "text": [
            "Total subsets found: 402\n",
            "[-3, -2, 2, 3]\n",
            "[-8, -7, -3, 1, 6, 11]\n",
            "[-8, -4, 1, 11]\n",
            "[-8, -7, -4, 3, 7, 9]\n",
            "[-5, 2, 3]\n",
            "[-6, -2, 1, 7]\n",
            "[-9, -7, -4, 9, 11]\n",
            "[-9, -7, -4, 2, 7, 11]\n",
            "[-6, -4, 1, 3, 6]\n",
            "[-4, 1, 3]\n"
          ]
        }
      ]
    }
  ]
}
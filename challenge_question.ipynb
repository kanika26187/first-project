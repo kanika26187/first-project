{
  "nbformat": 4,
  "nbformat_minor": 0,
  "metadata": {
    "colab": {
      "provenance": [],
      "authorship_tag": "ABX9TyP/0EV/+UVIE5GkLAcu5LYz",
      "include_colab_link": true
    },
    "kernelspec": {
      "name": "python3",
      "display_name": "Python 3"
    },
    "language_info": {
      "name": "python"
    }
  },
  "cells": [
    {
      "cell_type": "markdown",
      "metadata": {
        "id": "view-in-github",
        "colab_type": "text"
      },
      "source": [
        "<a href=\"https://colab.research.google.com/github/kanika26187/first-project/blob/main/challenge_question.ipynb\" target=\"_parent\"><img src=\"https://colab.research.google.com/assets/colab-badge.svg\" alt=\"Open In Colab\"/></a>"
      ]
    },
    {
      "cell_type": "code",
      "source": [
        "L = [\"ram\", 1, \"shyam\", 2, \"aman\", 3]\n",
        "L1 = []  # for integers\n",
        "L2 = []  # for strings\n",
        "\n",
        "for i in L:\n",
        "    try:\n",
        "        L1.append(int(i))\n",
        "    except:\n",
        "        L2.append(i)\n",
        "\n",
        "L1.sort()\n",
        "L2.sort()\n",
        "L3 = L1 + L2\n",
        "print(L3)\n"
      ],
      "metadata": {
        "colab": {
          "base_uri": "https://localhost:8080/"
        },
        "id": "hjtBInw7KY3P",
        "outputId": "b7fba0c0-ad86-48af-d7fa-4f0d87eecf39"
      },
      "execution_count": 17,
      "outputs": [
        {
          "output_type": "stream",
          "name": "stdout",
          "text": [
            "[1, 2, 3, 'aman', 'ram', 'shyam']\n"
          ]
        }
      ]
    }
  ]
}